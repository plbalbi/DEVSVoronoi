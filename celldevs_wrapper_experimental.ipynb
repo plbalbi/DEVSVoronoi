{
 "cells": [
  {
   "cell_type": "code",
   "execution_count": 1,
   "metadata": {},
   "outputs": [],
   "source": [
    "import subprocess\n",
    "from subprocess import CalledProcessError"
   ]
  },
  {
   "cell_type": "markdown",
   "metadata": {},
   "source": [
    "### Stuff to add in some future\n",
    "- VTime abstraction using builder pattern.\n",
    "- Modify drawlog to make more csv-like, in order to parse it quicker and merge it with matplotlib.\n",
    "- Instead of making drawlog write to stdout, its a good idea to make it picke in some way the state of the CellDEVS model. In a future, this can be done by running it as a daemon, and communicating via ZMQ, or sth. like that. Found this library to **pickle** in C++ http://www.picklingtools.com/."
   ]
  },
  {
   "cell_type": "markdown",
   "metadata": {},
   "source": [
    "### Constants\n",
    "From now on, a **cd++ binary** is required to be in the OS PATH environment variable."
   ]
  },
  {
   "cell_type": "code",
   "execution_count": 2,
   "metadata": {},
   "outputs": [],
   "source": [
    "CDPP_BIN = 'cd++'"
   ]
  },
  {
   "cell_type": "markdown",
   "metadata": {},
   "source": [
    "### Simulator process spawning"
   ]
  },
  {
   "cell_type": "code",
   "execution_count": 8,
   "metadata": {},
   "outputs": [
    {
     "name": "stdout",
     "output_type": "stream",
     "text": [
      "STDOUT:\n",
      "\n",
      "PCD++: A Tool to Implement n-Dimensional Cell-DEVS models\n",
      "----------------------------------------------------------\n",
      "Version 3.0 March-2003 -  Compiled for StandAlone Simulation \n",
      "Troccoli A., Rodriguez D., Wainer G., Barylko A., Beyoglonian J., Lopez A.\n",
      "Departamento de Computacion. Facultad de Ciencias Exactas y Naturales.\n",
      "Universidad de Buenos Aires. Argentina.\n",
      "\n",
      "Loading models from model.ma\n",
      "Loading events from \n",
      "Running parallel simulation. Reading models partition from \n",
      "Model partition details output to: /dev/null*\n",
      "Message log: \n",
      "Output to: /dev/null\n",
      "Tolerance set to: 1e-08\n",
      "Configuration to show real numbers: Width = 12 - Precision = 5\n",
      "Quantum: Not used\n",
      "Evaluate Debug Mode = OFF\n",
      "Flat Cell Debug Mode = OFF\n",
      "Debug Cell Rules Mode = OFF\n",
      "Aborting simulation...\n",
      "\n"
     ]
    }
   ],
   "source": [
    "try:\n",
    "    simulationArguments = [CDPP_BIN]\n",
    "    completedSimulation = subprocess.run(simulationArguments, capture_output=True, check=True)\n",
    "    print(f'STDOUT:\\n')\n",
    "    print(completedSimulation.stdout.decode('ascii'))\n",
    "except CalledProcessError as e:\n",
    "    # The exception contains information about the failed simulation process\n",
    "    print(f'The simulation process exeited with an errouneous return code: {e.returncode}')"
   ]
  }
 ],
 "metadata": {
  "kernelspec": {
   "display_name": "Python 3",
   "language": "python",
   "name": "python3"
  },
  "language_info": {
   "codemirror_mode": {
    "name": "ipython",
    "version": 3
   },
   "file_extension": ".py",
   "mimetype": "text/x-python",
   "name": "python",
   "nbconvert_exporter": "python",
   "pygments_lexer": "ipython3",
   "version": "3.7.0"
  }
 },
 "nbformat": 4,
 "nbformat_minor": 2
}
