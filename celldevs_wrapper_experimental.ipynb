{
 "cells": [
  {
   "cell_type": "code",
   "execution_count": 1,
   "metadata": {},
   "outputs": [],
   "source": [
    "%load_ext autoreload\n",
    "%autoreload 2\n",
    "from pycdevs.cdppwrapper import CDPPWrapper, Model"
   ]
  },
  {
   "cell_type": "markdown",
   "metadata": {},
   "source": [
    "### Stuff to add in some future\n",
    "- VTime abstraction using builder pattern.\n",
    "- Modify drawlog to make more csv-like, in order to parse it quicker and merge it with matplotlib.\n",
    "- Instead of making drawlog write to stdout, its a good idea to make it picke in some way the state of the CellDEVS model. In a future, this can be done by running it as a daemon, and communicating via ZMQ, or sth. like that. Found this library to **pickle** in C++ http://www.picklingtools.com/."
   ]
  },
  {
   "cell_type": "code",
   "execution_count": 2,
   "metadata": {},
   "outputs": [],
   "source": [
    "modelSourceCode = \"\"\"\n",
    "[Top]\n",
    "components : voronoiExpansion\n",
    "\n",
    "[voronoiExpansion]\n",
    "type : cell\n",
    "dim : (20,20)\n",
    "delay : transport\n",
    "defaultDelayTime  : 0\n",
    "border : nowrapped\n",
    "neighbors : voronoiExpansion(-1,-1) voronoiExpansion(-1,0) voronoiExpansion(-1,1)\n",
    "neighbors : voronoiExpansion(0,-1)  voronoiExpansion(0,0)  voronoiExpansion(0,1)\n",
    "neighbors : voronoiExpansion(1,-1)  voronoiExpansion(1,0)  voronoiExpansion(1,1)\n",
    "initialvalue : 0\n",
    "initialCellsValue : sites.val\n",
    "localtransition : voronoiSite\n",
    "\n",
    "[voronoiSite]\n",
    "\n",
    "% Expand center cell value in a 3x3 square neighbourhood\n",
    "rule : {(1,0)} ${expansionWaveDelay} { (0,0)=0 and (1,0)!=0 and (1,0)!=? }\n",
    "rule : {(1,-1)} ${expansionWaveDelay} { (0,0)=0 and (1,-1)!=0  and  (1,-1)!=? }\n",
    "rule : {(0,-1)} ${expansionWaveDelay} { (0,0)=0 and (0,-1)!=0  and  (0,-1)!=? }\n",
    "rule : {(-1,-1)} ${expansionWaveDelay} { (0,0)=0 and (-1,-1)!=0  and  (-1,-1)!=? }\n",
    "rule : {(-1,0)} ${expansionWaveDelay} { (0,0)=0 and (-1,0)!=0  and  (-1,0)!=? }\n",
    "rule : {(-1,1)} ${expansionWaveDelay} { (0,0)=0 and (-1,1)!=0  and  (-1,1)!=? }\n",
    "rule : {(1,1)} ${expansionWaveDelay} { (0,0)=0 and (1,1)!=0  and  (1,1)!=? }\n",
    "rule : {(0,1)} ${expansionWaveDelay} { (0,0)=0 and (0,1)!=0  and  (0,1)!=? }\n",
    "\n",
    "% Default rule\n",
    "rule : {(0,0)} 0 { t }\n",
    "\"\"\"\n",
    "# TODO: Make some kind of meta-DSL for replacements and formulaes inside CellDEVS model DSL\n",
    "modelSourceCode = modelSourceCode.replace('${expansionWaveDelay}', str(100))\n",
    "simpleVoronoiModel = Model(modelSourceCode)"
   ]
  },
  {
   "cell_type": "code",
   "execution_count": 3,
   "metadata": {},
   "outputs": [
    {
     "name": "stdout",
     "output_type": "stream",
     "text": [
      "STDOUT:\n",
      "\n",
      "PCD++: A Tool to Implement n-Dimensional Cell-DEVS models\n",
      "----------------------------------------------------------\n",
      "Version 3.0 March-2003 -  Compiled for StandAlone Simulation \n",
      "Troccoli A., Rodriguez D., Wainer G., Barylko A., Beyoglonian J., Lopez A.\n",
      "Departamento de Computacion. Facultad de Ciencias Exactas y Naturales.\n",
      "Universidad de Buenos Aires. Argentina.\n",
      "\n",
      "Loading models from /tmp/1542770329.ma\n",
      "Loading events from \n",
      "Running parallel simulation. Reading models partition from \n",
      "Model partition details output to: /dev/null*\n",
      "Message log: /tmp/1542770329.log\n",
      "Output to: /tmp/1542770329.out\n",
      "Tolerance set to: 1e-08\n",
      "Configuration to show real numbers: Width = 12 - Precision = 5\n",
      "Quantum: Not used\n",
      "Evaluate Debug Mode = OFF\n",
      "Flat Cell Debug Mode = OFF\n",
      "Debug Cell Rules Mode = OFF\n",
      "Temporary File created by Preprocessor = /var/tmp/tmp.0.MGN0TQ\n",
      "Printing parser information = OFF\n",
      "\n",
      "Stop at time: 00:01:00:000:0\n",
      "LP 0: initializing simulation objects\n",
      "LP 0: starting simulation (NoTime).\n",
      "Simulation complete!\n",
      "Simulation ended!\n",
      "LP 0 has finished simualtion \n",
      "\n"
     ]
    }
   ],
   "source": [
    "# TODO: VTime builder wrapper\n",
    "wrapper = CDPPWrapper(simpleVoronoiModel, '00:01:00:00')\n",
    "wrapper.run()"
   ]
  }
 ],
 "metadata": {
  "kernelspec": {
   "display_name": "Python 3",
   "language": "python",
   "name": "python3"
  },
  "language_info": {
   "codemirror_mode": {
    "name": "ipython",
    "version": 3
   },
   "file_extension": ".py",
   "mimetype": "text/x-python",
   "name": "python",
   "nbconvert_exporter": "python",
   "pygments_lexer": "ipython3",
   "version": "3.7.0"
  }
 },
 "nbformat": 4,
 "nbformat_minor": 2
}
