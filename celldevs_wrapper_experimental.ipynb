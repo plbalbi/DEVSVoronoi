{
 "cells": [
  {
   "cell_type": "code",
   "execution_count": 23,
   "metadata": {},
   "outputs": [
    {
     "name": "stdout",
     "output_type": "stream",
     "text": [
      "The autoreload extension is already loaded. To reload it, use:\n",
      "  %reload_ext autoreload\n"
     ]
    }
   ],
   "source": [
    "%load_ext autoreload\n",
    "%autoreload 2\n",
    "from pycdevs.cdppwrapper import CDPPWrapper, Model"
   ]
  },
  {
   "cell_type": "markdown",
   "metadata": {},
   "source": [
    "### Stuff to add in some future\n",
    "- VTime abstraction using builder pattern.\n",
    "- Modify drawlog to make more csv-like, in order to parse it quicker and merge it with matplotlib.\n",
    "- Instead of making drawlog write to stdout, its a good idea to make it picke in some way the state of the CellDEVS model. In a future, this can be done by running it as a daemon, and communicating via ZMQ, or sth. like that. Found this library to **pickle** in C++ http://www.picklingtools.com/."
   ]
  },
  {
   "cell_type": "code",
   "execution_count": 24,
   "metadata": {},
   "outputs": [],
   "source": [
    "modelSourceCode = \"\"\"\n",
    "[Top]\n",
    "components : voronoiExpansion\n",
    "\n",
    "[voronoiExpansion]\n",
    "type : cell\n",
    "dim : (20,20)\n",
    "delay : transport\n",
    "defaultDelayTime  : 0\n",
    "border : nowrapped\n",
    "neighbors : voronoiExpansion(-1,-1) voronoiExpansion(-1,0) voronoiExpansion(-1,1)\n",
    "neighbors : voronoiExpansion(0,-1)  voronoiExpansion(0,0)  voronoiExpansion(0,1)\n",
    "neighbors : voronoiExpansion(1,-1)  voronoiExpansion(1,0)  voronoiExpansion(1,1)\n",
    "initialvalue : 0\n",
    "initialCellsValue : sites.val\n",
    "localtransition : voronoiSite\n",
    "\n",
    "[voronoiSite]\n",
    "\n",
    "% Expand center cell value in a 3x3 square neighbourhood\n",
    "rule : {(1,0)} ${expansionWaveDelay} { (0,0)=0 and (1,0)!=0 and (1,0)!=? }\n",
    "rule : {(1,-1)} ${expansionWaveDelay} { (0,0)=0 and (1,-1)!=0  and  (1,-1)!=? }\n",
    "rule : {(0,-1)} ${expansionWaveDelay} { (0,0)=0 and (0,-1)!=0  and  (0,-1)!=? }\n",
    "rule : {(-1,-1)} ${expansionWaveDelay} { (0,0)=0 and (-1,-1)!=0  and  (-1,-1)!=? }\n",
    "rule : {(-1,0)} ${expansionWaveDelay} { (0,0)=0 and (-1,0)!=0  and  (-1,0)!=? }\n",
    "rule : {(-1,1)} ${expansionWaveDelay} { (0,0)=0 and (-1,1)!=0  and  (-1,1)!=? }\n",
    "rule : {(1,1)} ${expansionWaveDelay} { (0,0)=0 and (1,1)!=0  and  (1,1)!=? }\n",
    "rule : {(0,1)} ${expansionWaveDelay} { (0,0)=0 and (0,1)!=0  and  (0,1)!=? }\n",
    "\n",
    "% Default rule\n",
    "rule : {(0,0)} 0 { t }\n",
    "\"\"\"\n",
    "# TODO: Make some kind of meta-DSL for replacements and formulaes inside CellDEVS model DSL\n",
    "modelSourceCode = modelSourceCode.replace('${expansionWaveDelay}', str(100))\n",
    "simpleVoronoiModel = Model(modelSourceCode, 'voronoiExpansion')"
   ]
  },
  {
   "cell_type": "code",
   "execution_count": 25,
   "metadata": {},
   "outputs": [],
   "source": [
    "# TODO: VTime builder wrapper\n",
    "wrapper = CDPPWrapper(simpleVoronoiModel, '00:01:00:00')\n",
    "wrapper.run()"
   ]
  },
  {
   "cell_type": "code",
   "execution_count": 26,
   "metadata": {},
   "outputs": [
    {
     "data": {
      "text/plain": [
       "'/tmp/1542772299602.npz'"
      ]
     },
     "execution_count": 26,
     "metadata": {},
     "output_type": "execute_result"
    }
   ],
   "source": [
    "wrapper.drawlog('00:00:00:100')"
   ]
  }
 ],
 "metadata": {
  "kernelspec": {
   "display_name": "Python 3",
   "language": "python",
   "name": "python3"
  },
  "language_info": {
   "codemirror_mode": {
    "name": "ipython",
    "version": 3
   },
   "file_extension": ".py",
   "mimetype": "text/x-python",
   "name": "python",
   "nbconvert_exporter": "python",
   "pygments_lexer": "ipython3",
   "version": "3.7.0"
  }
 },
 "nbformat": 4,
 "nbformat_minor": 2
}
