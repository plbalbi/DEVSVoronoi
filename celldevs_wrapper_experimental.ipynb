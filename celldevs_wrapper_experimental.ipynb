{
 "cells": [
  {
   "cell_type": "code",
   "execution_count": 1,
   "metadata": {},
   "outputs": [],
   "source": [
    "%load_ext autoreload\n",
    "%autoreload 2"
   ]
  },
  {
   "cell_type": "code",
   "execution_count": 21,
   "metadata": {},
   "outputs": [],
   "source": [
    "from pycdevs.cdppwrapper import CDPPWrapper\n",
    "from pycdevs.models import Model"
   ]
  },
  {
   "cell_type": "markdown",
   "metadata": {},
   "source": [
    "### Stuff to add in some future\n",
    "- VTime abstraction using builder pattern.\n",
    "- Modify drawlog to make more csv-like, in order to parse it quicker and merge it with matplotlib.\n",
    "- Instead of making drawlog write to stdout, its a good idea to make it picke in some way the state of the CellDEVS model. In a future, this can be done by running it as a daemon, and communicating via ZMQ, or sth. like that. Found this library to **pickle** in C++ http://www.picklingtools.com/."
   ]
  },
  {
   "cell_type": "code",
   "execution_count": 22,
   "metadata": {},
   "outputs": [],
   "source": [
    "modelSourceCode = \"\"\"\n",
    "[Top]\n",
    "components : voronoiExpansion\n",
    "\n",
    "[voronoiExpansion]\n",
    "type : cell\n",
    "dim : (20,20)\n",
    "delay : transport\n",
    "defaultDelayTime  : 0\n",
    "border : nowrapped\n",
    "neighbors : voronoiExpansion(-1,-1) voronoiExpansion(-1,0) voronoiExpansion(-1,1)\n",
    "neighbors : voronoiExpansion(0,-1)  voronoiExpansion(0,0)  voronoiExpansion(0,1)\n",
    "neighbors : voronoiExpansion(1,-1)  voronoiExpansion(1,0)  voronoiExpansion(1,1)\n",
    "initialvalue : 0\n",
    "initialCellsValue : sites.val\n",
    "localtransition : voronoiSite\n",
    "\n",
    "[voronoiSite]\n",
    "\n",
    "% Expand center cell value in a 3x3 square neighbourhood\n",
    "rule : {(1,0)} ${expansionWaveDelay} { (0,0)=0 and (1,0)!=0 and (1,0)!=? }\n",
    "rule : {(1,-1)} ${expansionWaveDelay} { (0,0)=0 and (1,-1)!=0  and  (1,-1)!=? }\n",
    "rule : {(0,-1)} ${expansionWaveDelay} { (0,0)=0 and (0,-1)!=0  and  (0,-1)!=? }\n",
    "rule : {(-1,-1)} ${expansionWaveDelay} { (0,0)=0 and (-1,-1)!=0  and  (-1,-1)!=? }\n",
    "rule : {(-1,0)} ${expansionWaveDelay} { (0,0)=0 and (-1,0)!=0  and  (-1,0)!=? }\n",
    "rule : {(-1,1)} ${expansionWaveDelay} { (0,0)=0 and (-1,1)!=0  and  (-1,1)!=? }\n",
    "rule : {(1,1)} ${expansionWaveDelay} { (0,0)=0 and (1,1)!=0  and  (1,1)!=? }\n",
    "rule : {(0,1)} ${expansionWaveDelay} { (0,0)=0 and (0,1)!=0  and  (0,1)!=? }\n",
    "\n",
    "% Default rule\n",
    "rule : {(0,0)} 0 { t }\n",
    "\"\"\"\n",
    "# TODO: Make some kind of meta-DSL for replacements and formulaes inside CellDEVS model DSL\n",
    "modelSourceCode = modelSourceCode.replace('${expansionWaveDelay}', str(100))\n",
    "simpleVoronoiModel = Model(modelSourceCode, 'voronoiExpansion')"
   ]
  },
  {
   "cell_type": "code",
   "execution_count": 27,
   "metadata": {},
   "outputs": [
    {
     "data": {
      "text/plain": [
       "'/tmp/1545228317278.out'"
      ]
     },
     "execution_count": 27,
     "metadata": {},
     "output_type": "execute_result"
    }
   ],
   "source": [
    "# TODO: VTime builder wrapper\n",
    "wrapper = CDPPWrapper(simpleVoronoiModel, '00:01:00:00')\n",
    "wrapper.run()\n",
    "\n",
    "wrapper.outputFileName"
   ]
  },
  {
   "cell_type": "code",
   "execution_count": 26,
   "metadata": {},
   "outputs": [
    {
     "ename": "DrawlogFailedException",
     "evalue": "Command '['./drawlog', '-m/tmp/1545228178560.ma', '-l/tmp/1545228223748.log', '-cvoronoiExpansion', '-i00:00:00:100', '-z/tmp/1545228224878.npz']' returned non-zero exit status 1",
     "output_type": "error",
     "traceback": [
      "\u001b[0;31m---------------------------------------------------------------------------\u001b[0m",
      "\u001b[0;31mCalledProcessError\u001b[0m                        Traceback (most recent call last)",
      "\u001b[0;32m~/proyectos/facultad/devs/DEVSVoronoi/pycdevs/cdppwrapper.py\u001b[0m in \u001b[0;36mdrawlog\u001b[0;34m(self, anInterval)\u001b[0m\n\u001b[1;32m     93\u001b[0m                 \u001b[0mstderr\u001b[0m\u001b[0;34m=\u001b[0m\u001b[0msubprocess\u001b[0m\u001b[0;34m.\u001b[0m\u001b[0mPIPE\u001b[0m\u001b[0;34m,\u001b[0m\u001b[0;34m\u001b[0m\u001b[0m\n\u001b[0;32m---> 94\u001b[0;31m                 \u001b[0mcheck\u001b[0m\u001b[0;34m=\u001b[0m\u001b[0;32mTrue\u001b[0m\u001b[0;34m\u001b[0m\u001b[0m\n\u001b[0m\u001b[1;32m     95\u001b[0m             )\n",
      "\u001b[0;32m/usr/lib/python3.5/subprocess.py\u001b[0m in \u001b[0;36mrun\u001b[0;34m(input, timeout, check, *popenargs, **kwargs)\u001b[0m\n\u001b[1;32m    707\u001b[0m             raise CalledProcessError(retcode, process.args,\n\u001b[0;32m--> 708\u001b[0;31m                                      output=stdout, stderr=stderr)\n\u001b[0m\u001b[1;32m    709\u001b[0m     \u001b[0;32mreturn\u001b[0m \u001b[0mCompletedProcess\u001b[0m\u001b[0;34m(\u001b[0m\u001b[0mprocess\u001b[0m\u001b[0;34m.\u001b[0m\u001b[0margs\u001b[0m\u001b[0;34m,\u001b[0m \u001b[0mretcode\u001b[0m\u001b[0;34m,\u001b[0m \u001b[0mstdout\u001b[0m\u001b[0;34m,\u001b[0m \u001b[0mstderr\u001b[0m\u001b[0;34m)\u001b[0m\u001b[0;34m\u001b[0m\u001b[0m\n",
      "\u001b[0;31mCalledProcessError\u001b[0m: Command '['./drawlog', '-m/tmp/1545228178560.ma', '-l/tmp/1545228223748.log', '-cvoronoiExpansion', '-i00:00:00:100', '-z/tmp/1545228224878.npz']' returned non-zero exit status 1",
      "\nDuring handling of the above exception, another exception occurred:\n",
      "\u001b[0;31mDrawlogFailedException\u001b[0m                    Traceback (most recent call last)",
      "\u001b[0;32m<ipython-input-26-25e343a33e03>\u001b[0m in \u001b[0;36m<module>\u001b[0;34m()\u001b[0m\n\u001b[0;32m----> 1\u001b[0;31m \u001b[0mwrapper\u001b[0m\u001b[0;34m.\u001b[0m\u001b[0mdrawlog\u001b[0m\u001b[0;34m(\u001b[0m\u001b[0;34m'00:00:00:100'\u001b[0m\u001b[0;34m)\u001b[0m\u001b[0;34m\u001b[0m\u001b[0m\n\u001b[0m",
      "\u001b[0;32m~/proyectos/facultad/devs/DEVSVoronoi/pycdevs/cdppwrapper.py\u001b[0m in \u001b[0;36mdrawlog\u001b[0;34m(self, anInterval)\u001b[0m\n\u001b[1;32m     98\u001b[0m             \u001b[0;31m# The exception contains information about the failed simulation process\u001b[0m\u001b[0;34m\u001b[0m\u001b[0;34m\u001b[0m\u001b[0m\n\u001b[1;32m     99\u001b[0m             raise DrawlogFailedException(\n\u001b[0;32m--> 100\u001b[0;31m                 e.returncode, e.cmd, e.output, e.stderr)\n\u001b[0m\u001b[1;32m    101\u001b[0m \u001b[0;34m\u001b[0m\u001b[0m\n\u001b[1;32m    102\u001b[0m         \u001b[0;31m# TODO: Add check on 'Aborting simulation...' stdout last line, and throw error\u001b[0m\u001b[0;34m\u001b[0m\u001b[0;34m\u001b[0m\u001b[0m\n",
      "\u001b[0;31mDrawlogFailedException\u001b[0m: Command '['./drawlog', '-m/tmp/1545228178560.ma', '-l/tmp/1545228223748.log', '-cvoronoiExpansion', '-i00:00:00:100', '-z/tmp/1545228224878.npz']' returned non-zero exit status 1"
     ]
    }
   ],
   "source": [
    "wrapper.drawlog('00:00:00:100')"
   ]
  },
  {
   "cell_type": "code",
   "execution_count": null,
   "metadata": {},
   "outputs": [],
   "source": [
    "import os\n",
    "os.listdir()"
   ]
  },
  {
   "cell_type": "code",
   "execution_count": null,
   "metadata": {},
   "outputs": [],
   "source": []
  }
 ],
 "metadata": {
  "kernelspec": {
   "display_name": "Python 3",
   "language": "python",
   "name": "python3"
  },
  "language_info": {
   "codemirror_mode": {
    "name": "ipython",
    "version": 3
   },
   "file_extension": ".py",
   "mimetype": "text/x-python",
   "name": "python",
   "nbconvert_exporter": "python",
   "pygments_lexer": "ipython3",
   "version": "3.5.2"
  }
 },
 "nbformat": 4,
 "nbformat_minor": 2
}
